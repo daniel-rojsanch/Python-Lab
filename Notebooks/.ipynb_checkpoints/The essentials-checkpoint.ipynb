{
 "cells": [
  {
   "cell_type": "markdown",
   "id": "60624d0e-6b27-45f2-bcc6-e6d2bebecbaf",
   "metadata": {},
   "source": [
    "# 🐍 The Quick Python Books"
   ]
  },
  {
   "cell_type": "markdown",
   "id": "ce77fefc-fbce-40fd-a00f-66ec9bfb784b",
   "metadata": {},
   "source": [
    "### List\n",
    "---"
   ]
  },
  {
   "cell_type": "code",
   "execution_count": 55,
   "id": "63a4dcb8-b277-4055-aa78-7e1f63a42a35",
   "metadata": {},
   "outputs": [
    {
     "data": {
      "text/plain": [
       "[1, 2, 5]"
      ]
     },
     "execution_count": 55,
     "metadata": {},
     "output_type": "execute_result"
    }
   ],
   "source": [
    "## Una lista es asi\n",
    "x = [1, 2, 5]\n",
    "x"
   ]
  },
  {
   "cell_type": "code",
   "execution_count": 7,
   "id": "1a721b9a-c75f-4590-9e1d-f5ec203d1ce4",
   "metadata": {},
   "outputs": [
    {
     "data": {
      "text/plain": [
       "[1, 'Hola Maria', [1, 4, 5]]"
      ]
     },
     "execution_count": 7,
     "metadata": {},
     "output_type": "execute_result"
    }
   ],
   "source": [
    "x = [1, \"Hola Maria\", [1, 4, 5]]\n",
    "x"
   ]
  },
  {
   "cell_type": "code",
   "execution_count": 10,
   "id": "f562d4fb-5bc6-4773-a568-9b2310267496",
   "metadata": {},
   "outputs": [
    {
     "data": {
      "text/plain": [
       "3"
      ]
     },
     "execution_count": 10,
     "metadata": {},
     "output_type": "execute_result"
    }
   ],
   "source": [
    "len(x) ## Retorna el numero de elemntos de una lista"
   ]
  },
  {
   "cell_type": "code",
   "execution_count": 12,
   "id": "dfb91061-dabb-46cb-9ff8-0b90a2f88000",
   "metadata": {},
   "outputs": [
    {
     "data": {
      "text/plain": [
       "3"
      ]
     },
     "execution_count": 12,
     "metadata": {},
     "output_type": "execute_result"
    }
   ],
   "source": [
    "x = [3, \n",
    "     [3, 5, [5, 6, 7]],\n",
    "     \"Maria\"]\n",
    "len(x)"
   ]
  },
  {
   "cell_type": "code",
   "execution_count": 20,
   "id": "72d0a092-b728-429f-9637-0b05e95493cf",
   "metadata": {},
   "outputs": [
    {
     "data": {
      "text/plain": [
       "4"
      ]
     },
     "execution_count": 20,
     "metadata": {},
     "output_type": "execute_result"
    }
   ],
   "source": [
    "x = [\"diana\",\"Maria\",\"Brenda\",\"Rubi\"]\n",
    "len(x)"
   ]
  },
  {
   "cell_type": "code",
   "execution_count": 16,
   "id": "216adec5-aac7-4721-b2e8-e9fb8d048d9e",
   "metadata": {},
   "outputs": [
    {
     "data": {
      "text/plain": [
       "'diana'"
      ]
     },
     "execution_count": 16,
     "metadata": {},
     "output_type": "execute_result"
    }
   ],
   "source": [
    "x[0]"
   ]
  },
  {
   "cell_type": "code",
   "execution_count": 18,
   "id": "5cdffee8-e77d-4413-96eb-d017caf441f8",
   "metadata": {},
   "outputs": [
    {
     "data": {
      "text/plain": [
       "'Rubi'"
      ]
     },
     "execution_count": 18,
     "metadata": {},
     "output_type": "execute_result"
    }
   ],
   "source": [
    "x[3]"
   ]
  },
  {
   "cell_type": "code",
   "execution_count": 21,
   "id": "886f2eb1-69e1-40b1-b5f5-9b1d0b5f7a83",
   "metadata": {},
   "outputs": [
    {
     "data": {
      "text/plain": [
       "'Rubi'"
      ]
     },
     "execution_count": 21,
     "metadata": {},
     "output_type": "execute_result"
    }
   ],
   "source": [
    "x[-1]"
   ]
  },
  {
   "cell_type": "code",
   "execution_count": 24,
   "id": "60ce6202-4ccb-4145-ba42-41c87d8bc045",
   "metadata": {},
   "outputs": [
    {
     "data": {
      "text/plain": [
       "'Brenda'"
      ]
     },
     "execution_count": 24,
     "metadata": {},
     "output_type": "execute_result"
    }
   ],
   "source": [
    "x[-2]"
   ]
  },
  {
   "cell_type": "code",
   "execution_count": 35,
   "id": "3ef1303e-915b-4583-a1c3-71155b71fd7a",
   "metadata": {},
   "outputs": [
    {
     "data": {
      "text/plain": [
       "['Maria', 'Brenda', 'Rubi']"
      ]
     },
     "execution_count": 35,
     "metadata": {},
     "output_type": "execute_result"
    }
   ],
   "source": [
    "x[1:4]"
   ]
  },
  {
   "cell_type": "code",
   "execution_count": 36,
   "id": "6948f0fb-f36d-4dcf-b5e3-017449655d29",
   "metadata": {},
   "outputs": [
    {
     "data": {
      "text/plain": [
       "['Maria']"
      ]
     },
     "execution_count": 36,
     "metadata": {},
     "output_type": "execute_result"
    }
   ],
   "source": [
    "x[1:2]"
   ]
  },
  {
   "cell_type": "code",
   "execution_count": 37,
   "id": "86cf7b3f-a164-42fe-88e7-28bb1e66008a",
   "metadata": {},
   "outputs": [
    {
     "data": {
      "text/plain": [
       "['Maria', 'Brenda']"
      ]
     },
     "execution_count": 37,
     "metadata": {},
     "output_type": "execute_result"
    }
   ],
   "source": [
    "x[1:-1]"
   ]
  },
  {
   "cell_type": "code",
   "execution_count": 38,
   "id": "0d41c08c-7c7f-4f60-8448-b8b333c7f101",
   "metadata": {},
   "outputs": [
    {
     "data": {
      "text/plain": [
       "['diana', 'Maria', 'Brenda', 'Rubi']"
      ]
     },
     "execution_count": 38,
     "metadata": {},
     "output_type": "execute_result"
    }
   ],
   "source": [
    "x"
   ]
  },
  {
   "cell_type": "code",
   "execution_count": 39,
   "id": "3e3524df-d35e-43c7-ba8a-d81227211ad0",
   "metadata": {},
   "outputs": [
    {
     "data": {
      "text/plain": [
       "['diana', 'Maria', 'Brenda', 'Rubi']"
      ]
     },
     "execution_count": 39,
     "metadata": {},
     "output_type": "execute_result"
    }
   ],
   "source": [
    "x"
   ]
  },
  {
   "cell_type": "code",
   "execution_count": 40,
   "id": "3637c249-9c24-4672-b862-6a52655234df",
   "metadata": {},
   "outputs": [
    {
     "data": {
      "text/plain": [
       "['Maria', 'Brenda', 'Rubi']"
      ]
     },
     "execution_count": 40,
     "metadata": {},
     "output_type": "execute_result"
    }
   ],
   "source": [
    "x[1:]"
   ]
  },
  {
   "cell_type": "code",
   "execution_count": 43,
   "id": "41c1e632-d47a-40f0-87e8-bdaad4da6a08",
   "metadata": {},
   "outputs": [
    {
     "data": {
      "text/plain": [
       "['diana', 'Maria', 'Brenda']"
      ]
     },
     "execution_count": 43,
     "metadata": {},
     "output_type": "execute_result"
    }
   ],
   "source": [
    "x[:3]"
   ]
  },
  {
   "cell_type": "code",
   "execution_count": 44,
   "id": "2d4135d6-1389-4550-b1f1-c37c51011a02",
   "metadata": {},
   "outputs": [
    {
     "data": {
      "text/plain": [
       "'Rubi'"
      ]
     },
     "execution_count": 44,
     "metadata": {},
     "output_type": "execute_result"
    }
   ],
   "source": [
    "x[3]"
   ]
  },
  {
   "cell_type": "code",
   "execution_count": 45,
   "id": "4a7fbbea-491f-472b-b7db-b3549c64b171",
   "metadata": {},
   "outputs": [],
   "source": [
    "x = [1, 2, 4]"
   ]
  },
  {
   "cell_type": "code",
   "execution_count": 46,
   "id": "17d637d6-0731-4ce2-afa8-888893324446",
   "metadata": {},
   "outputs": [],
   "source": [
    "y = x"
   ]
  },
  {
   "cell_type": "code",
   "execution_count": 47,
   "id": "414f0283-1c79-4f4f-9544-b590b53b3566",
   "metadata": {},
   "outputs": [],
   "source": [
    "y[0] = 10"
   ]
  },
  {
   "cell_type": "code",
   "execution_count": 48,
   "id": "d6580383-8a06-4ba3-ba56-899cab064273",
   "metadata": {},
   "outputs": [
    {
     "data": {
      "text/plain": [
       "[10, 2, 4]"
      ]
     },
     "execution_count": 48,
     "metadata": {},
     "output_type": "execute_result"
    }
   ],
   "source": [
    "x"
   ]
  },
  {
   "cell_type": "code",
   "execution_count": 49,
   "id": "b6cec43b-72d0-48de-96f2-a53e85dbb600",
   "metadata": {},
   "outputs": [
    {
     "data": {
      "text/plain": [
       "[10, 2, 4]"
      ]
     },
     "execution_count": 49,
     "metadata": {},
     "output_type": "execute_result"
    }
   ],
   "source": [
    "y"
   ]
  },
  {
   "cell_type": "code",
   "execution_count": 50,
   "id": "ce39610d-6665-458b-b778-297873bc8982",
   "metadata": {},
   "outputs": [
    {
     "data": {
      "text/plain": [
       "[10, 2, 4]"
      ]
     },
     "execution_count": 50,
     "metadata": {},
     "output_type": "execute_result"
    }
   ],
   "source": [
    "x"
   ]
  },
  {
   "cell_type": "code",
   "execution_count": 51,
   "id": "e21e3613-820d-4999-9473-1d92c98e54eb",
   "metadata": {},
   "outputs": [],
   "source": [
    "y1 = x[:]"
   ]
  },
  {
   "cell_type": "code",
   "execution_count": 52,
   "id": "50996f47-b054-44e1-8d58-b231969b50ef",
   "metadata": {},
   "outputs": [],
   "source": [
    "y1[0] = 100"
   ]
  },
  {
   "cell_type": "code",
   "execution_count": 53,
   "id": "02694716-eb6e-444d-a8de-4521a2f3ccf0",
   "metadata": {},
   "outputs": [
    {
     "data": {
      "text/plain": [
       "[100, 2, 4]"
      ]
     },
     "execution_count": 53,
     "metadata": {},
     "output_type": "execute_result"
    }
   ],
   "source": [
    "y1"
   ]
  },
  {
   "cell_type": "code",
   "execution_count": 54,
   "id": "a28adbb7-1630-4411-9fda-684e86344e5f",
   "metadata": {},
   "outputs": [
    {
     "data": {
      "text/plain": [
       "[10, 2, 4]"
      ]
     },
     "execution_count": 54,
     "metadata": {},
     "output_type": "execute_result"
    }
   ],
   "source": [
    "x"
   ]
  },
  {
   "cell_type": "code",
   "execution_count": 56,
   "id": "72bb7493-ad46-4723-8c68-659cbc7f0314",
   "metadata": {},
   "outputs": [],
   "source": [
    "del x, y"
   ]
  },
  {
   "cell_type": "code",
   "execution_count": null,
   "id": "3a8965fa-b9d7-445e-bdb6-f16d0cfc883e",
   "metadata": {},
   "outputs": [],
   "source": []
  }
 ],
 "metadata": {
  "kernelspec": {
   "display_name": "Python 3 (ipykernel)",
   "language": "python",
   "name": "python3"
  },
  "language_info": {
   "codemirror_mode": {
    "name": "ipython",
    "version": 3
   },
   "file_extension": ".py",
   "mimetype": "text/x-python",
   "name": "python",
   "nbconvert_exporter": "python",
   "pygments_lexer": "ipython3",
   "version": "3.10.2"
  }
 },
 "nbformat": 4,
 "nbformat_minor": 5
}
